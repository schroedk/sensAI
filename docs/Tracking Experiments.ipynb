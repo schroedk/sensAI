{
 "cells": [
  {
   "cell_type": "markdown",
   "metadata": {
    "collapsed": true,
    "pycharm": {
     "name": "#%% md\n"
    }
   },
   "source": [
    "# Tracking sensAI experiments\n",
    "\n",
    "In this notebook we will demonstrate how to use sensAI's tracking utilities with evaluators\n",
    "and parameter sweeps. Several backends are supported and it is very easy to write a new custom adapter\n",
    "for a different tracking framework. In this notebook we will use [trains](https://github.com/allegroai/trains)\n",
    "as tracking backend. After running it, you can access the results on the trains\n",
    "[demoserver](https://demoapp.trains.allegro.ai/) (if you have not provided your own trains config)"
   ]
  },
  {
   "cell_type": "code",
   "execution_count": 1,
   "metadata": {
    "collapsed": false,
    "pycharm": {
     "name": "#%%\n"
    }
   },
   "outputs": [],
   "source": [
    "# Note - this cell should be executed only once per session\n",
    "%load_ext autoreload\n",
    "%autoreload 2\n",
    "\n",
    "import sys, os\n",
    "\n",
    "# in order to get the config, it is not part of the library\n",
    "os.chdir(\"..\")\n",
    "sys.path.append(os.path.abspath(\".\"))"
   ]
  },
  {
   "cell_type": "code",
   "execution_count": 2,
   "metadata": {
    "collapsed": false,
    "pycharm": {
     "name": "#%%\n"
    }
   },
   "outputs": [
    {
     "name": "stderr",
     "output_type": "stream",
     "text": [
      "INFO:config.__Configuration:Reading configuration from /home/runner/work/sensAI/sensAI/config.json\n"
     ]
    }
   ],
   "source": [
    "import geopandas as gp\n",
    "\n",
    "from sensai.hyperopt import GridSearch\n",
    "from sklearn.cluster import DBSCAN\n",
    "import logging\n",
    "\n",
    "from sensai.clustering.coordinate_clustering import SKLearnCoordinateClustering\n",
    "from sensai.evaluation.evaluator_clustering import ClusteringModelSupervisedEvaluator\n",
    "from sensai.evaluation.clustering_ground_truth import PolygonAnnotatedCoordinates\n",
    "from sensai.tracking.trains_tracking import TrackedTrainsExperiment\n",
    "\n",
    "import matplotlib.pyplot as plt\n",
    "\n",
    "from config import get_config\n",
    "\n",
    "logging.basicConfig(level=logging.INFO)\n",
    "c = get_config(reload=True)"
   ]
  },
  {
   "cell_type": "markdown",
   "metadata": {
    "collapsed": false,
    "pycharm": {
     "name": "#%% md\n"
    }
   },
   "source": [
    "### Evaluators\n",
    "\n",
    "The main entrypoint to reproducible experiments is the evaluator api. We will use clustering evaluation for\n",
    "demonstration purposes. We load the data and create a SupervisedClusteringEvaluator, see\n",
    "[intro to evaluation](Clustering%20Evaluation.ipynb) for more details.\n",
    "\n",
    "[comment]: <> (TODO - use some VectorModel with an sklearn dataset instead, move the notebook to sensAI repo)"
   ]
  },
  {
   "cell_type": "code",
   "execution_count": 3,
   "metadata": {
    "collapsed": false,
    "pycharm": {
     "name": "#%%\n"
    }
   },
   "outputs": [],
   "source": [
    "# loading the data and ground truth labels\n",
    "sampleFile = c.datafile_path(\"sample\", stage=c.RAW) # this can point to a directory or a shp/geojson file\n",
    "sampleGeoDF = gp.read_file(sampleFile)\n",
    "groundTruthClusters = PolygonAnnotatedCoordinates(sampleGeoDF, c.datafile_path(\"sample\", stage=c.GROUND_TRUTH))"
   ]
  },
  {
   "cell_type": "code",
   "execution_count": 4,
   "metadata": {
    "collapsed": false,
    "pycharm": {
     "name": "#%%\n"
    }
   },
   "outputs": [],
   "source": [
    "# creating the evaluator\n",
    "groundTruthCoordinates, groundTruthLabels = groundTruthClusters.getCoordinatesLabels()\n",
    "supervisedEvaluator = ClusteringModelSupervisedEvaluator(groundTruthCoordinates, trueLabels=groundTruthLabels)"
   ]
  },
  {
   "cell_type": "markdown",
   "metadata": {
    "collapsed": false,
    "pycharm": {
     "name": "#%% md\n"
    }
   },
   "source": [
    "### Setup tracking\n",
    "\n",
    "Now comes the new part - we create a tracking experiment and set it in the evaluator"
   ]
  },
  {
   "cell_type": "code",
   "execution_count": 5,
   "metadata": {
    "collapsed": false,
    "pycharm": {
     "name": "#%%\n"
    }
   },
   "outputs": [
    {
     "name": "stdout",
     "output_type": "stream",
     "text": [
      "TRAINS Task: created new task id=94d710d211a6491198e4bafb9689a09e\n"
     ]
    },
    {
     "name": "stdout",
     "output_type": "stream",
     "text": [
      "TRAINS results page: https://demoapp.trains.allegro.ai/projects/0cf1f690e09d43678d394b45f8a74232/experiments/94d710d211a6491198e4bafb9689a09e/output/log\n"
     ]
    }
   ],
   "source": [
    "experiment = TrackedTrainsExperiment(projectName=\"Demos\", taskName=\"notebook_experiment\")\n",
    "supervisedEvaluator.setTrackedExperiment(experiment)"
   ]
  },
  {
   "cell_type": "markdown",
   "metadata": {
    "collapsed": false,
    "pycharm": {
     "name": "#%% md\n"
    }
   },
   "source": [
    "As simple as that! Whenever we perform an evaluation, the results will be tracked. Depending on\n",
    "the backend and the particular implementation of the experiment, the code and other information\n",
    "like images will get tracked as well. We will demonstrated the tracking of the evaluation of a dbscan."
   ]
  },
  {
   "cell_type": "code",
   "execution_count": 6,
   "metadata": {
    "collapsed": false,
    "pycharm": {
     "name": "#%%\n"
    }
   },
   "outputs": [
    {
     "name": "stderr",
     "output_type": "stream",
     "text": [
      "INFO:sensai.clustering.base.clustering:Fitting SKLearnCoordinateClustering to 78782 coordinate datapoints.\n"
     ]
    },
    {
     "name": "stderr",
     "output_type": "stream",
     "text": [
      "INFO:sensai.clustering.base.clustering:SKLearnCoordinateClustering found 57 clusters\n"
     ]
    },
    {
     "name": "stderr",
     "output_type": "stream",
     "text": [
      "INFO:sensai.util.tracking:Finished execution of getAll in 0.15s\n"
     ]
    },
    {
     "name": "stderr",
     "output_type": "stream",
     "text": [
      "INFO:sensai.util.tracking:Finished execution of _computeMetrics in 1.51s\n"
     ]
    },
    {
     "name": "stdout",
     "output_type": "stream",
     "text": [
      "TRAINS Monitor: GPU monitoring failed getting GPU reading, switching off GPU monitoring\n"
     ]
    },
    {
     "data": {
      "text/plain": [
       "{'VMeasureScore': 0.661727751698087,\n",
       " 'FowlkesMallowsScore': 0.27503572733470316,\n",
       " 'AdjustedRandScore': 0.17987036763356976,\n",
       " 'AdjustedMutualInfoScore': 0.6497595011750351,\n",
       " 'numClusters': 57,\n",
       " 'averageClusterSize': 197.94736842105263,\n",
       " 'clusterSizeStd': 252.18173765930052,\n",
       " 'maxClusterSize': 1983,\n",
       " 'minClusterSize': 100,\n",
       " 'medianClusterSize': 132.0,\n",
       " 'noiseClusterSize': 67499}"
      ]
     },
     "execution_count": 6,
     "metadata": {},
     "output_type": "execute_result"
    }
   ],
   "source": [
    "boundedDbscan = SKLearnCoordinateClustering(DBSCAN(eps=150, min_samples=20), minClusterSize=100)\n",
    "supervisedEvaluator.computeMetrics(boundedDbscan)"
   ]
  },
  {
   "cell_type": "code",
   "execution_count": 7,
   "metadata": {
    "collapsed": false,
    "pycharm": {
     "name": "#%%\n"
    }
   },
   "outputs": [
    {
     "data": {
      "image/png": "[encoded data removed]",
      "text/plain": [
       "<Figure size 432x576 with 1 Axes>"
      ]
     },
     "metadata": {
      "needs_background": "light"
     },
     "output_type": "display_data"
    }
   ],
   "source": [
    "# plots are tracked automatically on creation.\n",
    "# Note that one should use fig.show instead of plt.show\n",
    "\n",
    "fig, ax = plt.subplots(figsize=[6, 8])\n",
    "ax.set_title(\"Sample Ground Truth clusters\")\n",
    "groundTruthClusters.plot(includeNoise=False, markersize=0.2, cmap=\"plasma\", ax=ax)\n",
    "fig.show()"
   ]
  },
  {
   "cell_type": "code",
   "execution_count": 8,
   "metadata": {
    "collapsed": false,
    "pycharm": {
     "name": "#%%\n"
    }
   },
   "outputs": [
    {
     "name": "stderr",
     "output_type": "stream",
     "text": [
      "INFO:sensai.clustering.base.clustering:Processed 0% of clusters\n"
     ]
    },
    {
     "name": "stderr",
     "output_type": "stream",
     "text": [
      "INFO:sensai.clustering.base.clustering:Processed 5% of clusters\n"
     ]
    },
    {
     "name": "stderr",
     "output_type": "stream",
     "text": [
      "INFO:sensai.clustering.base.clustering:Processed 10% of clusters\n"
     ]
    },
    {
     "name": "stderr",
     "output_type": "stream",
     "text": [
      "INFO:sensai.clustering.base.clustering:Processed 15% of clusters\n"
     ]
    },
    {
     "name": "stderr",
     "output_type": "stream",
     "text": [
      "INFO:sensai.util.tracking:Finished execution of toGeoDF in 2.57s\n"
     ]
    },
    {
     "data": {
      "image/png": "[encoded data removed]",
      "text/plain": [
       "<Figure size 432x576 with 1 Axes>"
      ]
     },
     "metadata": {
      "needs_background": "light"
     },
     "output_type": "display_data"
    }
   ],
   "source": [
    "fig, ax = plt.subplots(figsize=[6, 8])\n",
    "ax.set_title(\"Predicted clusters\")\n",
    "boundedDbscan.plot(includeNoise=False, markersize=0.2, cmap=\"plasma\", ax=ax, figsize=10)\n",
    "fig.show()\n"
   ]
  },
  {
   "cell_type": "code",
   "execution_count": 9,
   "metadata": {
    "collapsed": false,
    "pycharm": {
     "name": "#%%\n"
    }
   },
   "outputs": [
    {
     "name": "stderr",
     "output_type": "stream",
     "text": [
      "INFO:sensai.clustering.base.clustering:Processed 0% of clusters\n"
     ]
    },
    {
     "name": "stderr",
     "output_type": "stream",
     "text": [
      "INFO:sensai.clustering.base.clustering:Processed 5% of clusters\n"
     ]
    },
    {
     "name": "stderr",
     "output_type": "stream",
     "text": [
      "INFO:sensai.clustering.base.clustering:Processed 10% of clusters\n"
     ]
    },
    {
     "name": "stderr",
     "output_type": "stream",
     "text": [
      "INFO:sensai.clustering.base.clustering:Processed 15% of clusters\n"
     ]
    }
   ],
   "source": [
    "# We can also add the summaries df to the experiment through explicit tracking\n",
    "\n",
    "logger  = supervisedEvaluator.trackedExperiment.logger\n",
    "\n",
    "logger.report_table(title=\"Clusters Summaries\", series=\"pandas DataFrame\", iteration=0,\n",
    "                    table_plot=boundedDbscan.summaryDF().sort_values(\"numMembers\"))"
   ]
  },
  {
   "cell_type": "markdown",
   "metadata": {
    "collapsed": false,
    "pycharm": {
     "name": "#%% md\n"
    }
   },
   "source": [
    "The same mechanism works in the hyperopts module. The experiment can be set for GridSearch\n",
    "or simulated annealing. One can also set the experiment in the evaluator that is passed to\n",
    "the hyperopt objects and use that one for tracking instead. Here an example\n"
   ]
  },
  {
   "cell_type": "code",
   "execution_count": 10,
   "metadata": {
    "collapsed": false,
    "pycharm": {
     "name": "#%%\n"
    }
   },
   "outputs": [
    {
     "name": "stderr",
     "output_type": "stream",
     "text": [
      "INFO:config:Configured directory temp='/home/runner/work/sensAI/sensAI/temp' not found; will create it\n"
     ]
    },
    {
     "name": "stderr",
     "output_type": "stream",
     "text": [
      "INFO:sensai.hyperopt:Created GridSearch object for 4 parameter combinations\n"
     ]
    },
    {
     "name": "stdout",
     "output_type": "stream",
     "text": [
      "TRAINS Task: created new task id=1b3b9f510c3440b3add778e1b3368832\n"
     ]
    },
    {
     "name": "stdout",
     "output_type": "stream",
     "text": [
      "TRAINS results page: https://demoapp.trains.allegro.ai/projects/0cf1f690e09d43678d394b45f8a74232/experiments/1b3b9f510c3440b3add778e1b3368832/output/log\n"
     ]
    }
   ],
   "source": [
    "# because of how trains works and because we are using it in jupyter, we need to manually close the existing task\n",
    "# even though the docu says, with reuse_last_task_id=False a new task would be created...\n",
    "# this step is unnecessary if one has one experiment per script execution\n",
    "# we also unset the tracked experiment in the evaluator and prepare a new one for the grid search\n",
    "\n",
    "supervisedEvaluator.trackedExperiment.task.close()\n",
    "supervisedEvaluator.unsetTrackedExperiment()\n",
    "\n",
    "\n",
    "def dbscanFactory(**kwargs):\n",
    "    return SKLearnCoordinateClustering(DBSCAN(**kwargs), minClusterSize=100)\n",
    "\n",
    "parameterOptions = {\n",
    "    \"min_samples\": [10, 20],\n",
    "    \"eps\": [50, 150]\n",
    "}\n",
    "\n",
    "dbscanGridSearch = GridSearch(dbscanFactory, parameterOptions,\n",
    "                              csvResultsPath=os.path.join(c.temp, \"dbscanGridSearchCsv\"))\n",
    "gridExperiment = TrackedTrainsExperiment(projectName=\"Demos\", taskName=\"notebook_grid_search\")\n",
    "dbscanGridSearch.setTrackedExperiment(gridExperiment)"
   ]
  },
  {
   "cell_type": "code",
   "execution_count": 11,
   "metadata": {
    "collapsed": false,
    "pycharm": {
     "name": "#%%\n"
    }
   },
   "outputs": [
    {
     "name": "stderr",
     "output_type": "stream",
     "text": [
      "INFO:sensai.hyperopt.GridSearch:Evaluating {'min_samples': 10, 'eps': 50}\n"
     ]
    },
    {
     "name": "stderr",
     "output_type": "stream",
     "text": [
      "INFO:sensai.clustering.base.clustering:Fitting SKLearnCoordinateClustering to 78782 coordinate datapoints.\n"
     ]
    },
    {
     "name": "stderr",
     "output_type": "stream",
     "text": [
      "INFO:sensai.clustering.base.clustering:SKLearnCoordinateClustering found 12 clusters\n"
     ]
    },
    {
     "name": "stderr",
     "output_type": "stream",
     "text": [
      "INFO:sensai.util.tracking:Finished execution of getAll in 0.06s\n"
     ]
    },
    {
     "name": "stderr",
     "output_type": "stream",
     "text": [
      "INFO:sensai.util.tracking:Finished execution of _computeMetrics in 1.19s\n"
     ]
    },
    {
     "name": "stderr",
     "output_type": "stream",
     "text": [
      "INFO:sensai.hyperopt:Updated grid search result:\n",
      "  numClusters  VMeasureScore  FowlkesMallowsScore  AdjustedRandScore  AdjustedMutualInfoScore  averageClusterSize  clusterSizeStd maxClusterSize minClusterSize  medianClusterSize noiseClusterSize                   str(model) min_samples eps\n",
      "0          12        0.36016             0.185506           0.011638                 0.352041          263.833333      314.595728           1288            101              150.0            75616  SKLearnCoordinateClustering          10  50\n"
     ]
    },
    {
     "name": "stderr",
     "output_type": "stream",
     "text": [
      "INFO:sensai.hyperopt.GridSearch:Evaluating {'min_samples': 10, 'eps': 150}\n"
     ]
    },
    {
     "name": "stderr",
     "output_type": "stream",
     "text": [
      "INFO:sensai.clustering.base.clustering:Fitting SKLearnCoordinateClustering to 78782 coordinate datapoints.\n"
     ]
    },
    {
     "name": "stdout",
     "output_type": "stream",
     "text": [
      "TRAINS Monitor: GPU monitoring failed getting GPU reading, switching off GPU monitoring\n"
     ]
    },
    {
     "name": "stderr",
     "output_type": "stream",
     "text": [
      "INFO:sensai.clustering.base.clustering:SKLearnCoordinateClustering found 125 clusters\n"
     ]
    },
    {
     "name": "stderr",
     "output_type": "stream",
     "text": [
      "INFO:sensai.util.tracking:Finished execution of getAll in 0.35s\n"
     ]
    },
    {
     "name": "stderr",
     "output_type": "stream",
     "text": [
      "INFO:sensai.util.tracking:Finished execution of _computeMetrics in 1.69s\n"
     ]
    },
    {
     "name": "stderr",
     "output_type": "stream",
     "text": [
      "INFO:sensai.hyperopt:Updated grid search result:\n",
      "  numClusters  VMeasureScore  FowlkesMallowsScore  AdjustedRandScore  AdjustedMutualInfoScore  averageClusterSize  clusterSizeStd maxClusterSize minClusterSize  medianClusterSize noiseClusterSize                   str(model) min_samples  eps\n",
      "0          12       0.360160             0.185506           0.011638                 0.352041          263.833333      314.595728           1288            101              150.0            75616  SKLearnCoordinateClustering          10   50\n",
      "1         125       0.352457             0.116221           0.005487                 0.332641          279.784000      306.998830           2135            100              169.0            43809  SKLearnCoordinateClustering          10  150\n"
     ]
    },
    {
     "name": "stderr",
     "output_type": "stream",
     "text": [
      "INFO:sensai.hyperopt.GridSearch:Evaluating {'min_samples': 20, 'eps': 50}\n"
     ]
    },
    {
     "name": "stderr",
     "output_type": "stream",
     "text": [
      "INFO:sensai.clustering.base.clustering:Fitting SKLearnCoordinateClustering to 78782 coordinate datapoints.\n"
     ]
    },
    {
     "name": "stderr",
     "output_type": "stream",
     "text": [
      "INFO:sensai.clustering.base.clustering:SKLearnCoordinateClustering found 5 clusters\n"
     ]
    },
    {
     "name": "stderr",
     "output_type": "stream",
     "text": [
      "INFO:sensai.util.tracking:Finished execution of getAll in 0.02s\n"
     ]
    },
    {
     "name": "stderr",
     "output_type": "stream",
     "text": [
      "INFO:sensai.util.tracking:Finished execution of _computeMetrics in 1.06s\n"
     ]
    },
    {
     "name": "stderr",
     "output_type": "stream",
     "text": [
      "INFO:sensai.hyperopt:Updated grid search result:\n",
      "  numClusters  VMeasureScore  FowlkesMallowsScore  AdjustedRandScore  AdjustedMutualInfoScore  averageClusterSize  clusterSizeStd maxClusterSize minClusterSize  medianClusterSize noiseClusterSize                   str(model) min_samples  eps\n",
      "0           5       0.207358             0.165565           0.003231                 0.202292          253.200000      163.416523            568            102              210.0            77516  SKLearnCoordinateClustering          20   50\n",
      "1          12       0.360160             0.185506           0.011638                 0.352041          263.833333      314.595728           1288            101              150.0            75616  SKLearnCoordinateClustering          10   50\n",
      "2         125       0.352457             0.116221           0.005487                 0.332641          279.784000      306.998830           2135            100              169.0            43809  SKLearnCoordinateClustering          10  150\n"
     ]
    },
    {
     "name": "stderr",
     "output_type": "stream",
     "text": [
      "INFO:sensai.hyperopt.GridSearch:Evaluating {'min_samples': 20, 'eps': 150}\n"
     ]
    },
    {
     "name": "stderr",
     "output_type": "stream",
     "text": [
      "INFO:sensai.clustering.base.clustering:Fitting SKLearnCoordinateClustering to 78782 coordinate datapoints.\n"
     ]
    },
    {
     "name": "stderr",
     "output_type": "stream",
     "text": [
      "INFO:sensai.clustering.base.clustering:SKLearnCoordinateClustering found 57 clusters\n"
     ]
    },
    {
     "name": "stderr",
     "output_type": "stream",
     "text": [
      "INFO:sensai.util.tracking:Finished execution of getAll in 0.09s\n"
     ]
    },
    {
     "name": "stderr",
     "output_type": "stream",
     "text": [
      "INFO:sensai.util.tracking:Finished execution of _computeMetrics in 1.39s\n"
     ]
    },
    {
     "name": "stderr",
     "output_type": "stream",
     "text": [
      "INFO:sensai.hyperopt:Updated grid search result:\n",
      "  numClusters  VMeasureScore  FowlkesMallowsScore  AdjustedRandScore  AdjustedMutualInfoScore  averageClusterSize  clusterSizeStd maxClusterSize minClusterSize  medianClusterSize noiseClusterSize                   str(model) min_samples  eps\n",
      "0           5       0.207358             0.165565           0.003231                 0.202292          253.200000      163.416523            568            102              210.0            77516  SKLearnCoordinateClustering          20   50\n",
      "1          12       0.360160             0.185506           0.011638                 0.352041          263.833333      314.595728           1288            101              150.0            75616  SKLearnCoordinateClustering          10   50\n",
      "2          57       0.661728             0.275036           0.179870                 0.649760          197.947368      252.181738           1983            100              132.0            67499  SKLearnCoordinateClustering          20  150\n",
      "3         125       0.352457             0.116221           0.005487                 0.332641          279.784000      306.998830           2135            100              169.0            43809  SKLearnCoordinateClustering          10  150\n"
     ]
    }
   ],
   "source": [
    "searchResults = dbscanGridSearch.run(supervisedEvaluator, sortColumnName=\"numClusters\")"
   ]
  },
  {
   "cell_type": "code",
   "execution_count": 12,
   "metadata": {
    "collapsed": false,
    "pycharm": {
     "name": "#%%\n"
    }
   },
   "outputs": [],
   "source": [
    "# unfortunately, the trains experiment interface is at conflict with the grid search\n",
    "# the most pragmatic solution is to simply attach the dataframe to the experiment and to use it for further evaluation\n",
    "\n",
    "dbscanGridSearch.trackedExperiment.logger.report_table(title=\"Results\", series=\"pandas DataFrame\", iteration=0,\n",
    "                    table_plot=searchResults)\n"
   ]
  }
 ],
 "metadata": {
  "kernelspec": {
   "display_name": "Python 3",
   "language": "python",
   "name": "python3"
  },
  "language_info": {
   "codemirror_mode": {
    "name": "ipython",
    "version": 2
   },
   "file_extension": ".py",
   "mimetype": "text/x-python",
   "name": "python",
   "nbconvert_exporter": "python",
   "pygments_lexer": "ipython2",
   "version": "2.7.6"
  }
 },
 "nbformat": 4,
 "nbformat_minor": 0
}
