{
 "cells": [
  {
   "cell_type": "markdown",
   "metadata": {},
   "source": [
    "# The Coordinate Clustering Module\n",
    "\n",
    "On top of support for different clustering algorithms, sensAI provides useful methods specific to\n",
    "clustering of geospatial data. They include utilities for wrangling geometrical data, spanning trees and for persisting and\n",
    "visualizing the results. It seamlessly interoperates with geopandas and shapely.\n",
    "This notebook gives an overview of the coordinate clustering's main functions\n",
    "\n",
    "\n",
    "## Before running the notebook\n",
    "\n",
    "Install the library and its dependencies with, if you haven't done so already\n",
    "```\n",
    "pip install -e .\n",
    "```\n",
    "from the root directory. You can also execute this command directly in the notebook but will need to reload the\n",
    "kernel afterwards"
   ]
  },
  {
   "cell_type": "code",
   "execution_count": 1,
   "metadata": {},
   "outputs": [],
   "source": [
    "# Note - this cell should be executed only once per session\n",
    "%load_ext autoreload\n",
    "%autoreload 2\n",
    "\n",
    "import sys, os\n",
    "\n",
    "# in order to get the config, it is not part of the library\n",
    "os.chdir(\"..\")\n",
    "sys.path.append(os.path.abspath(\".\"))"
   ]
  },
  {
   "cell_type": "code",
   "execution_count": 2,
   "metadata": {},
   "outputs": [
    {
     "name": "stderr",
     "output_type": "stream",
     "text": [
      "INFO:config.__Configuration:Reading configuration from /home/runner/work/sensAI/sensAI/config.json\n"
     ]
    }
   ],
   "source": [
    "import os\n",
    "import geopandas as gp\n",
    "from pprint import pprint\n",
    "import numpy as np\n",
    "\n",
    "from sklearn.cluster import DBSCAN\n",
    "\n",
    "import logging\n",
    "from sensai.util.graph import CoordinateSpanningTree\n",
    "from sensai.clustering.coordinate_clustering import SKLearnCoordinateClustering\n",
    "from sensai.util.geometry import alphaShape\n",
    "from config import get_config\n",
    "\n",
    "logging.basicConfig(level=logging.INFO)\n",
    "c = get_config(reload=True)"
   ]
  },
  {
   "cell_type": "markdown",
   "metadata": {},
   "source": [
    "## Loading and Fitting"
   ]
  },
  {
   "cell_type": "markdown",
   "metadata": {
    "pycharm": {
     "name": "#%% md\n"
    }
   },
   "source": [
    "The library contains utils for loading coordinates from files and for wrapping arbitrary scikit-learn compatible\n",
    "clustering algorithms. Custom clustering algorithms can be implemented easily buy inheriting from the baseclass\n",
    "`ClusteringModel`\n"
   ]
  },
  {
   "cell_type": "code",
   "execution_count": 3,
   "metadata": {},
   "outputs": [
    {
     "name": "stderr",
     "output_type": "stream",
     "text": [
      "INFO:sensai.clustering.base.clustering:Fitting SKLearnCoordinateClustering to 78782 coordinate datapoints.\n"
     ]
    },
    {
     "name": "stderr",
     "output_type": "stream",
     "text": [
      "INFO:sensai.clustering.base.clustering:SKLearnCoordinateClustering found 477 clusters\n"
     ]
    }
   ],
   "source": [
    "sampleFile = c.datafile_path(\"sample\", stage=c.RAW) # this can point to a directory or a shp/geojson file\n",
    "sampleGeoDF = gp.read_file(sampleFile)\n",
    "dbscan = SKLearnCoordinateClustering(DBSCAN(eps=150, min_samples=20))\n",
    "dbscan.fit(sampleGeoDF)"
   ]
  },
  {
   "cell_type": "markdown",
   "metadata": {},
   "source": [
    "The resulting `CoordinateClusteringAlgorithm` instance has many useful methods.\n",
    "You can retrieve clusters individually or via a generator. The noise cluster can be accessed individually"
   ]
  },
  {
   "cell_type": "code",
   "execution_count": 4,
   "metadata": {},
   "outputs": [
    {
     "name": "stderr",
     "output_type": "stream",
     "text": [
      "INFO:sensai.clustering.base.clustering:Processed 0% of clusters\n"
     ]
    },
    {
     "name": "stderr",
     "output_type": "stream",
     "text": [
      "INFO:sensai.clustering.base.clustering:Processed 5% of clusters\n"
     ]
    },
    {
     "name": "stderr",
     "output_type": "stream",
     "text": [
      "INFO:sensai.clustering.base.clustering:Processed 10% of clusters\n"
     ]
    },
    {
     "name": "stderr",
     "output_type": "stream",
     "text": [
      "INFO:sensai.clustering.base.clustering:Processed 15% of clusters\n"
     ]
    },
    {
     "name": "stderr",
     "output_type": "stream",
     "text": [
      "INFO:sensai.clustering.base.clustering:Processed 20% of clusters\n"
     ]
    },
    {
     "name": "stderr",
     "output_type": "stream",
     "text": [
      "INFO:sensai.clustering.base.clustering:Processed 25% of clusters\n"
     ]
    },
    {
     "name": "stderr",
     "output_type": "stream",
     "text": [
      "INFO:sensai.clustering.base.clustering:Processed 30% of clusters\n"
     ]
    },
    {
     "name": "stderr",
     "output_type": "stream",
     "text": [
      "INFO:sensai.clustering.base.clustering:Processed 35% of clusters\n"
     ]
    },
    {
     "name": "stderr",
     "output_type": "stream",
     "text": [
      "INFO:sensai.clustering.base.clustering:Processed 40% of clusters\n"
     ]
    },
    {
     "name": "stderr",
     "output_type": "stream",
     "text": [
      "INFO:sensai.clustering.base.clustering:Processed 45% of clusters\n"
     ]
    },
    {
     "name": "stderr",
     "output_type": "stream",
     "text": [
      "INFO:sensai.clustering.base.clustering:Processed 50% of clusters\n"
     ]
    },
    {
     "name": "stderr",
     "output_type": "stream",
     "text": [
      "INFO:sensai.clustering.base.clustering:Processed 55% of clusters\n"
     ]
    },
    {
     "name": "stdout",
     "output_type": "stream",
     "text": [
      "Clusters found: 477\n"
     ]
    },
    {
     "name": "stderr",
     "output_type": "stream",
     "text": [
      "INFO:sensai.clustering.base.clustering:Processed 60% of clusters\n"
     ]
    },
    {
     "name": "stderr",
     "output_type": "stream",
     "text": [
      "INFO:sensai.clustering.base.clustering:Processed 65% of clusters\n"
     ]
    },
    {
     "name": "stderr",
     "output_type": "stream",
     "text": [
      "INFO:sensai.clustering.base.clustering:Processed 70% of clusters\n"
     ]
    },
    {
     "name": "stderr",
     "output_type": "stream",
     "text": [
      "INFO:sensai.clustering.base.clustering:Processed 75% of clusters\n"
     ]
    },
    {
     "name": "stderr",
     "output_type": "stream",
     "text": [
      "INFO:sensai.clustering.base.clustering:Processed 80% of clusters\n"
     ]
    },
    {
     "name": "stderr",
     "output_type": "stream",
     "text": [
      "INFO:sensai.clustering.base.clustering:Processed 85% of clusters\n"
     ]
    },
    {
     "name": "stderr",
     "output_type": "stream",
     "text": [
      "INFO:sensai.clustering.base.clustering:Processed 90% of clusters\n"
     ]
    },
    {
     "name": "stderr",
     "output_type": "stream",
     "text": [
      "INFO:sensai.clustering.base.clustering:Processed 95% of clusters\n"
     ]
    },
    {
     "name": "stdout",
     "output_type": "stream",
     "text": [
      "Clusters with at least 50 members: 154\n"
     ]
    }
   ],
   "source": [
    "print(f\"Clusters found: {dbscan.numClusters}\")\n",
    "\n",
    "clustersMin50 = list(dbscan.clusters(condition=lambda x: len(x) >= 50))\n",
    "\n",
    "print(f\"Clusters with at least 50 members: {len(clustersMin50)}\")"
   ]
  },
  {
   "cell_type": "markdown",
   "metadata": {},
   "source": [
    "## Analysis and Visualization"
   ]
  },
  {
   "cell_type": "markdown",
   "metadata": {},
   "source": [
    "From the dbscan single clusters which are instances of `CoordinateClusteringAlgorithm.Cluster` \n",
    "can be retrieved and visualized. Most objects, including the dbscan itself, have an inbuilt plot method"
   ]
  },
  {
   "cell_type": "code",
   "execution_count": 5,
   "metadata": {},
   "outputs": [
    {
     "name": "stderr",
     "output_type": "stream",
     "text": [
      "INFO:sensai.clustering.base.clustering:Processed 0% of clusters\n"
     ]
    },
    {
     "name": "stderr",
     "output_type": "stream",
     "text": [
      "INFO:sensai.clustering.base.clustering:Processed 5% of clusters\n"
     ]
    },
    {
     "name": "stderr",
     "output_type": "stream",
     "text": [
      "INFO:sensai.clustering.base.clustering:Processed 10% of clusters\n"
     ]
    },
    {
     "name": "stderr",
     "output_type": "stream",
     "text": [
      "INFO:sensai.clustering.base.clustering:Processed 15% of clusters\n"
     ]
    },
    {
     "name": "stderr",
     "output_type": "stream",
     "text": [
      "INFO:sensai.clustering.base.clustering:Processed 20% of clusters\n"
     ]
    },
    {
     "name": "stderr",
     "output_type": "stream",
     "text": [
      "INFO:sensai.clustering.base.clustering:Processed 25% of clusters\n"
     ]
    },
    {
     "name": "stderr",
     "output_type": "stream",
     "text": [
      "INFO:sensai.clustering.base.clustering:Processed 30% of clusters\n"
     ]
    },
    {
     "name": "stderr",
     "output_type": "stream",
     "text": [
      "INFO:sensai.clustering.base.clustering:Processed 35% of clusters\n"
     ]
    },
    {
     "name": "stderr",
     "output_type": "stream",
     "text": [
      "INFO:sensai.clustering.base.clustering:Processed 40% of clusters\n"
     ]
    },
    {
     "name": "stderr",
     "output_type": "stream",
     "text": [
      "INFO:sensai.clustering.base.clustering:Processed 45% of clusters\n"
     ]
    },
    {
     "name": "stderr",
     "output_type": "stream",
     "text": [
      "INFO:sensai.clustering.base.clustering:Processed 50% of clusters\n"
     ]
    },
    {
     "name": "stderr",
     "output_type": "stream",
     "text": [
      "INFO:sensai.clustering.base.clustering:Processed 55% of clusters\n"
     ]
    },
    {
     "name": "stderr",
     "output_type": "stream",
     "text": [
      "INFO:sensai.clustering.base.clustering:Processed 60% of clusters\n"
     ]
    },
    {
     "name": "stderr",
     "output_type": "stream",
     "text": [
      "INFO:sensai.clustering.base.clustering:Processed 65% of clusters\n"
     ]
    },
    {
     "name": "stderr",
     "output_type": "stream",
     "text": [
      "INFO:sensai.clustering.base.clustering:Processed 70% of clusters\n"
     ]
    },
    {
     "name": "stderr",
     "output_type": "stream",
     "text": [
      "INFO:sensai.clustering.base.clustering:Processed 75% of clusters\n"
     ]
    },
    {
     "name": "stderr",
     "output_type": "stream",
     "text": [
      "INFO:sensai.clustering.base.clustering:Processed 80% of clusters\n"
     ]
    },
    {
     "name": "stderr",
     "output_type": "stream",
     "text": [
      "INFO:sensai.clustering.base.clustering:Processed 85% of clusters\n"
     ]
    },
    {
     "name": "stderr",
     "output_type": "stream",
     "text": [
      "INFO:sensai.clustering.base.clustering:Processed 90% of clusters\n"
     ]
    },
    {
     "name": "stderr",
     "output_type": "stream",
     "text": [
      "INFO:sensai.clustering.base.clustering:Processed 95% of clusters\n"
     ]
    },
    {
     "name": "stderr",
     "output_type": "stream",
     "text": [
      "INFO:sensai.util.tracking:Finished execution of toGeoDF in 19.30s\n"
     ]
    },
    {
     "data": {
      "image/png": "[encoded data removed]",
      "text/plain": [
       "<Figure size 432x288 with 1 Axes>"
      ]
     },
     "metadata": {
      "needs_background": "light"
     },
     "output_type": "display_data"
    }
   ],
   "source": [
    "dbscan.plot(markersize=0.2)"
   ]
  },
  {
   "cell_type": "markdown",
   "metadata": {},
   "source": [
    "We can condition before plotting as well as pass custom arguments"
   ]
  },
  {
   "cell_type": "code",
   "execution_count": 6,
   "metadata": {},
   "outputs": [
    {
     "name": "stderr",
     "output_type": "stream",
     "text": [
      "INFO:sensai.clustering.base.clustering:Processed 0% of clusters\n"
     ]
    },
    {
     "name": "stderr",
     "output_type": "stream",
     "text": [
      "INFO:sensai.clustering.base.clustering:Processed 5% of clusters\n"
     ]
    },
    {
     "name": "stderr",
     "output_type": "stream",
     "text": [
      "INFO:sensai.clustering.base.clustering:Processed 10% of clusters\n"
     ]
    },
    {
     "name": "stderr",
     "output_type": "stream",
     "text": [
      "INFO:sensai.clustering.base.clustering:Processed 15% of clusters\n"
     ]
    },
    {
     "name": "stderr",
     "output_type": "stream",
     "text": [
      "INFO:sensai.clustering.base.clustering:Processed 20% of clusters\n"
     ]
    },
    {
     "name": "stderr",
     "output_type": "stream",
     "text": [
      "INFO:sensai.clustering.base.clustering:Processed 25% of clusters\n"
     ]
    },
    {
     "name": "stderr",
     "output_type": "stream",
     "text": [
      "INFO:sensai.clustering.base.clustering:Processed 30% of clusters\n"
     ]
    },
    {
     "name": "stderr",
     "output_type": "stream",
     "text": [
      "INFO:sensai.clustering.base.clustering:Processed 35% of clusters\n"
     ]
    },
    {
     "name": "stderr",
     "output_type": "stream",
     "text": [
      "INFO:sensai.clustering.base.clustering:Processed 40% of clusters\n"
     ]
    },
    {
     "name": "stderr",
     "output_type": "stream",
     "text": [
      "INFO:sensai.clustering.base.clustering:Processed 45% of clusters\n"
     ]
    },
    {
     "name": "stderr",
     "output_type": "stream",
     "text": [
      "INFO:sensai.clustering.base.clustering:Processed 50% of clusters\n"
     ]
    },
    {
     "name": "stderr",
     "output_type": "stream",
     "text": [
      "INFO:sensai.clustering.base.clustering:Processed 55% of clusters\n"
     ]
    },
    {
     "name": "stderr",
     "output_type": "stream",
     "text": [
      "INFO:sensai.clustering.base.clustering:Processed 60% of clusters\n"
     ]
    },
    {
     "name": "stderr",
     "output_type": "stream",
     "text": [
      "INFO:sensai.clustering.base.clustering:Processed 65% of clusters\n"
     ]
    },
    {
     "name": "stderr",
     "output_type": "stream",
     "text": [
      "INFO:sensai.clustering.base.clustering:Processed 70% of clusters\n"
     ]
    },
    {
     "name": "stderr",
     "output_type": "stream",
     "text": [
      "INFO:sensai.clustering.base.clustering:Processed 75% of clusters\n"
     ]
    },
    {
     "name": "stderr",
     "output_type": "stream",
     "text": [
      "INFO:sensai.clustering.base.clustering:Processed 80% of clusters\n"
     ]
    },
    {
     "name": "stderr",
     "output_type": "stream",
     "text": [
      "INFO:sensai.clustering.base.clustering:Processed 85% of clusters\n"
     ]
    },
    {
     "name": "stderr",
     "output_type": "stream",
     "text": [
      "INFO:sensai.clustering.base.clustering:Processed 90% of clusters\n"
     ]
    },
    {
     "name": "stderr",
     "output_type": "stream",
     "text": [
      "INFO:sensai.clustering.base.clustering:Processed 95% of clusters\n"
     ]
    },
    {
     "name": "stderr",
     "output_type": "stream",
     "text": [
      "INFO:sensai.util.tracking:Finished execution of toGeoDF in 5.34s\n"
     ]
    },
    {
     "data": {
      "image/png": "[encoded data removed]",
      "text/plain": [
       "<Figure size 432x288 with 1 Axes>"
      ]
     },
     "metadata": {
      "needs_background": "light"
     },
     "output_type": "display_data"
    }
   ],
   "source": [
    "dbscan.plot(condition=lambda x: len(x) >= 50, cmap='plasma')"
   ]
  },
  {
   "cell_type": "markdown",
   "metadata": {},
   "source": [
    "### Properties of a single cluster\n",
    "\n",
    "Single clusters can be plotted too"
   ]
  },
  {
   "cell_type": "code",
   "execution_count": 7,
   "metadata": {},
   "outputs": [
    {
     "data": {
      "image/png": "[encoded data removed]",
      "text/plain": [
       "<Figure size 432x288 with 1 Axes>"
      ]
     },
     "metadata": {
      "needs_background": "light"
     },
     "output_type": "display_data"
    }
   ],
   "source": [
    "sampleCluster = dbscan.getCluster(0)\n",
    "\n",
    "sampleCluster.plot()"
   ]
  },
  {
   "cell_type": "markdown",
   "metadata": {},
   "source": [
    "Clusters have an identifier and coordinates. It is easy to extract additional information,\n",
    "e.g. via the summary method"
   ]
  },
  {
   "cell_type": "code",
   "execution_count": 8,
   "metadata": {},
   "outputs": [
    {
     "name": "stdout",
     "output_type": "stream",
     "text": [
      "{'centroid': array([4376695.82252174, 1183767.04571391]),\n",
      " 'identifier': 0,\n",
      " 'numMembers': 115,\n",
      " 'radius': 349.2315943771115}\n"
     ]
    }
   ],
   "source": [
    "pprint(sampleCluster.summaryDict())"
   ]
  },
  {
   "cell_type": "markdown",
   "metadata": {
    "collapsed": false,
    "pycharm": {
     "name": "#%% md\n"
    }
   },
   "source": [
    "A single cluster is just a wrapper around its coordinates. They can be\n",
    "retrieved either as a numpy array, a geodataframe or a MultiPoint object.\n",
    "The latter is useful for geometric operations, e.g. computing hulls"
   ]
  },
  {
   "cell_type": "code",
   "execution_count": 9,
   "metadata": {
    "collapsed": false,
    "pycharm": {
     "name": "#%%\n"
    }
   },
   "outputs": [
    {
     "data": {
      "image/svg+xml": [
       "<svg xmlns=\"http://www.w3.org/2000/svg\" xmlns:xlink=\"http://www.w3.org/1999/xlink\" width=\"300\" height=\"300\" viewBox=\"4376381.322632001 1183437.8626320004 665.7975359987468 602.2975359978154\" preserveAspectRatio=\"xMinYMin meet\"><g transform=\"matrix(1,0,0,-1,0,2367478.0227999985)\"><path fill-rule=\"evenodd\" fill=\"#66cc99\" stroke=\"#555555\" stroke-width=\"4.438650239991645\" opacity=\"0.6\" d=\"M 4376623.998500001,1183462.5218000002 L 4376489.061000001,1183610.1592999995 L 4376405.981800001,1183903.8467999995 L 4376922.4485,1184015.5009999983 L 4377022.460999999,1183890.6176000014 L 4376806.561000001,1183528.1385000013 L 4376788.5693,1183508.0300999992 L 4376623.998500001,1183462.5218000002 z\" /></g></svg>"
      ],
      "text/plain": [
       "<shapely.geometry.polygon.Polygon at 0x7fbe1fa43f10>"
      ]
     },
     "execution_count": 9,
     "metadata": {},
     "output_type": "execute_result"
    }
   ],
   "source": [
    "clusterMultipoint = sampleCluster.asMultipoint()\n",
    "clusterMultipoint.convex_hull"
   ]
  },
  {
   "cell_type": "code",
   "execution_count": 10,
   "metadata": {
    "collapsed": false,
    "pycharm": {
     "name": "#%%\n"
    }
   },
   "outputs": [
    {
     "data": {
      "image/svg+xml": [
       "<svg xmlns=\"http://www.w3.org/2000/svg\" xmlns:xlink=\"http://www.w3.org/1999/xlink\" width=\"300\" height=\"300\" viewBox=\"4376381.322632001 1183437.8626320004 665.7975359987468 602.2975359978154\" preserveAspectRatio=\"xMinYMin meet\"><g transform=\"matrix(1,0,0,-1,0,2367478.0227999985)\"><path fill-rule=\"evenodd\" fill=\"#66cc99\" stroke=\"#555555\" stroke-width=\"4.438650239991645\" opacity=\"0.6\" d=\"M 4376788.5693,1183508.0300999992 L 4376693.3193,1183492.6843000017 L 4376623.998500001,1183462.5218000002 L 4376489.061000001,1183610.1592999995 L 4376504.406800002,1183709.113499999 L 4376456.781800002,1183843.5218000002 L 4376447.785999998,1183850.4010000005 L 4376421.3277,1183871.0384999998 L 4376405.981800001,1183903.8467999995 L 4376436.144299999,1183885.3260000013 L 4376512.344300002,1183882.1510000005 L 4376550.4443,1183813.3592999987 L 4376588.0152,1183786.9010000005 L 4376652.5735,1183755.6801000014 L 4376773.752700001,1183838.2300999984 L 4376775.3401999995,1183868.3926 L 4376798.094300002,1183949.3550999984 L 4376909.748500001,1183991.6884999983 L 4376922.4485,1184015.5009999983 L 4377022.460999999,1183890.6176000014 L 4376901.281800002,1183853.0467999987 L 4376855.773499999,1183819.1801000014 L 4376832.490200002,1183778.4343000017 L 4376810.2652,1183753.0342999995 L 4376790.686000001,1183664.6634999998 L 4376793.861000001,1183614.9217999987 L 4376806.561000001,1183528.1385000013 L 4376788.5693,1183508.0300999992 z\" /></g></svg>"
      ],
      "text/plain": [
       "<shapely.geometry.polygon.Polygon at 0x7fbe1f995d90>"
      ]
     },
     "execution_count": 10,
     "metadata": {},
     "output_type": "execute_result"
    }
   ],
   "source": [
    "# we also provide a utility for computing alpha shapes for such objects\n",
    "\n",
    "alphaShape(clusterMultipoint)"
   ]
  },
  {
   "cell_type": "markdown",
   "metadata": {
    "collapsed": false,
    "pycharm": {
     "name": "#%% md\n"
    }
   },
   "source": [
    "sensAI also provides utilities for computing trees, e.g. here for the minimal spanning tree"
   ]
  },
  {
   "cell_type": "code",
   "execution_count": 11,
   "metadata": {
    "collapsed": false,
    "pycharm": {
     "name": "#%%\n"
    }
   },
   "outputs": [
    {
     "data": {
      "image/png": "[encoded data removed]",
      "text/plain": [
       "<Figure size 432x288 with 1 Axes>"
      ]
     },
     "metadata": {
      "needs_background": "light"
     },
     "output_type": "display_data"
    }
   ],
   "source": [
    "sampleTree = CoordinateSpanningTree(sampleCluster)\n",
    "sampleTree.plot()"
   ]
  },
  {
   "cell_type": "markdown",
   "metadata": {
    "collapsed": false,
    "pycharm": {
     "name": "#%% md\n"
    }
   },
   "source": [
    "Most objects provide a way for extracting a summary from them, either as a dict or as a data frame"
   ]
  },
  {
   "cell_type": "code",
   "execution_count": 12,
   "metadata": {},
   "outputs": [
    {
     "name": "stdout",
     "output_type": "stream",
     "text": [
      "cluster summary:\n",
      "{'centroid': array([4376695.82252174, 1183767.04571391]),\n",
      " 'identifier': 0,\n",
      " 'numMembers': 115,\n",
      " 'radius': 349.2315943771115}\n"
     ]
    }
   ],
   "source": [
    "print(\"cluster summary:\")\n",
    "pprint(sampleCluster.summaryDict())"
   ]
  },
  {
   "cell_type": "code",
   "execution_count": 13,
   "metadata": {},
   "outputs": [
    {
     "name": "stderr",
     "output_type": "stream",
     "text": [
      "INFO:sensai.clustering.base.clustering:Processed 0% of clusters\n"
     ]
    },
    {
     "name": "stderr",
     "output_type": "stream",
     "text": [
      "INFO:sensai.clustering.base.clustering:Processed 5% of clusters\n"
     ]
    },
    {
     "name": "stderr",
     "output_type": "stream",
     "text": [
      "INFO:sensai.clustering.base.clustering:Processed 10% of clusters\n"
     ]
    },
    {
     "name": "stderr",
     "output_type": "stream",
     "text": [
      "INFO:sensai.clustering.base.clustering:Processed 15% of clusters\n"
     ]
    },
    {
     "name": "stderr",
     "output_type": "stream",
     "text": [
      "INFO:sensai.clustering.base.clustering:Processed 20% of clusters\n"
     ]
    },
    {
     "name": "stderr",
     "output_type": "stream",
     "text": [
      "INFO:sensai.clustering.base.clustering:Processed 25% of clusters\n"
     ]
    },
    {
     "name": "stderr",
     "output_type": "stream",
     "text": [
      "INFO:sensai.clustering.base.clustering:Processed 30% of clusters\n"
     ]
    },
    {
     "name": "stderr",
     "output_type": "stream",
     "text": [
      "INFO:sensai.clustering.base.clustering:Processed 35% of clusters\n"
     ]
    },
    {
     "name": "stderr",
     "output_type": "stream",
     "text": [
      "INFO:sensai.clustering.base.clustering:Processed 40% of clusters\n"
     ]
    },
    {
     "name": "stderr",
     "output_type": "stream",
     "text": [
      "INFO:sensai.clustering.base.clustering:Processed 45% of clusters\n"
     ]
    },
    {
     "name": "stderr",
     "output_type": "stream",
     "text": [
      "INFO:sensai.clustering.base.clustering:Processed 50% of clusters\n"
     ]
    },
    {
     "name": "stderr",
     "output_type": "stream",
     "text": [
      "INFO:sensai.clustering.base.clustering:Processed 55% of clusters\n"
     ]
    },
    {
     "name": "stderr",
     "output_type": "stream",
     "text": [
      "INFO:sensai.clustering.base.clustering:Processed 60% of clusters\n"
     ]
    },
    {
     "name": "stderr",
     "output_type": "stream",
     "text": [
      "INFO:sensai.clustering.base.clustering:Processed 65% of clusters\n"
     ]
    },
    {
     "name": "stderr",
     "output_type": "stream",
     "text": [
      "INFO:sensai.clustering.base.clustering:Processed 70% of clusters\n"
     ]
    },
    {
     "name": "stderr",
     "output_type": "stream",
     "text": [
      "INFO:sensai.clustering.base.clustering:Processed 75% of clusters\n"
     ]
    },
    {
     "name": "stderr",
     "output_type": "stream",
     "text": [
      "INFO:sensai.clustering.base.clustering:Processed 80% of clusters\n"
     ]
    },
    {
     "name": "stderr",
     "output_type": "stream",
     "text": [
      "INFO:sensai.clustering.base.clustering:Processed 85% of clusters\n"
     ]
    },
    {
     "name": "stderr",
     "output_type": "stream",
     "text": [
      "INFO:sensai.clustering.base.clustering:Processed 90% of clusters\n"
     ]
    },
    {
     "name": "stderr",
     "output_type": "stream",
     "text": [
      "INFO:sensai.clustering.base.clustering:Processed 95% of clusters\n"
     ]
    },
    {
     "data": {
      "text/html": [
       "<div>\n",
       "<style scoped>\n",
       "    .dataframe tbody tr th:only-of-type {\n",
       "        vertical-align: middle;\n",
       "    }\n",
       "\n",
       "    .dataframe tbody tr th {\n",
       "        vertical-align: top;\n",
       "    }\n",
       "\n",
       "    .dataframe thead th {\n",
       "        text-align: right;\n",
       "    }\n",
       "</style>\n",
       "<table border=\"1\" class=\"dataframe\">\n",
       "  <thead>\n",
       "    <tr style=\"text-align: right;\">\n",
       "      <th></th>\n",
       "      <th>centroid</th>\n",
       "      <th>numMembers</th>\n",
       "      <th>radius</th>\n",
       "    </tr>\n",
       "    <tr>\n",
       "      <th>identifier</th>\n",
       "      <th></th>\n",
       "      <th></th>\n",
       "      <th></th>\n",
       "    </tr>\n",
       "  </thead>\n",
       "  <tbody>\n",
       "    <tr>\n",
       "      <th>0</th>\n",
       "      <td>[4376695.82252174, 1183767.045713913]</td>\n",
       "      <td>115</td>\n",
       "      <td>349.231594</td>\n",
       "    </tr>\n",
       "    <tr>\n",
       "      <th>1</th>\n",
       "      <td>[4376876.279427272, 1195560.675918182]</td>\n",
       "      <td>44</td>\n",
       "      <td>223.324669</td>\n",
       "    </tr>\n",
       "    <tr>\n",
       "      <th>2</th>\n",
       "      <td>[4377779.652260293, 1198338.2656926473]</td>\n",
       "      <td>68</td>\n",
       "      <td>246.582618</td>\n",
       "    </tr>\n",
       "    <tr>\n",
       "      <th>3</th>\n",
       "      <td>[4378073.775288462, 1205306.8416676929]</td>\n",
       "      <td>130</td>\n",
       "      <td>466.581354</td>\n",
       "    </tr>\n",
       "    <tr>\n",
       "      <th>4</th>\n",
       "      <td>[4378265.649890477, 1186429.8616714287]</td>\n",
       "      <td>21</td>\n",
       "      <td>158.661667</td>\n",
       "    </tr>\n",
       "  </tbody>\n",
       "</table>\n",
       "</div>"
      ],
      "text/plain": [
       "                                           centroid  numMembers      radius\n",
       "identifier                                                                 \n",
       "0             [4376695.82252174, 1183767.045713913]         115  349.231594\n",
       "1            [4376876.279427272, 1195560.675918182]          44  223.324669\n",
       "2           [4377779.652260293, 1198338.2656926473]          68  246.582618\n",
       "3           [4378073.775288462, 1205306.8416676929]         130  466.581354\n",
       "4           [4378265.649890477, 1186429.8616714287]          21  158.661667"
      ]
     },
     "execution_count": 13,
     "metadata": {},
     "output_type": "execute_result"
    }
   ],
   "source": [
    "dbscan.summaryDF().head()"
   ]
  },
  {
   "cell_type": "markdown",
   "metadata": {},
   "source": [
    "## Saving and Loading"
   ]
  },
  {
   "cell_type": "markdown",
   "metadata": {},
   "source": [
    "All of the objects used above can be exported to a GeoDataFrame using the `toGeoDF` method. This geodataframe\n",
    "can then be persisted as usual.\n",
    "\n",
    "In addition to that `CoordinateClusteringAlgorithm` has its own save method which persists the object as pickle.\n",
    "An instance can be loaded using the load classmethod.\n",
    "This way of persisting the fitted algorithm is _much more efficient and general_ than saving the corresponding gdf\n",
    "\n",
    "Individual clusters themselves also have saving and loading methods,\n",
    "with the difference that they are persisted as (and instantiated from) shapefiles."
   ]
  },
  {
   "cell_type": "code",
   "execution_count": 14,
   "metadata": {},
   "outputs": [
    {
     "name": "stderr",
     "output_type": "stream",
     "text": [
      "INFO:sensai.clustering.base.clustering:Processed 0% of clusters\n"
     ]
    },
    {
     "name": "stderr",
     "output_type": "stream",
     "text": [
      "INFO:sensai.clustering.base.clustering:Processed 5% of clusters\n"
     ]
    },
    {
     "name": "stderr",
     "output_type": "stream",
     "text": [
      "INFO:sensai.clustering.base.clustering:Processed 10% of clusters\n"
     ]
    },
    {
     "name": "stderr",
     "output_type": "stream",
     "text": [
      "INFO:sensai.clustering.base.clustering:Processed 15% of clusters\n"
     ]
    },
    {
     "name": "stderr",
     "output_type": "stream",
     "text": [
      "INFO:sensai.clustering.base.clustering:Processed 20% of clusters\n"
     ]
    },
    {
     "name": "stderr",
     "output_type": "stream",
     "text": [
      "INFO:sensai.clustering.base.clustering:Processed 25% of clusters\n"
     ]
    },
    {
     "name": "stderr",
     "output_type": "stream",
     "text": [
      "INFO:sensai.clustering.base.clustering:Processed 30% of clusters\n"
     ]
    },
    {
     "name": "stderr",
     "output_type": "stream",
     "text": [
      "INFO:sensai.clustering.base.clustering:Processed 35% of clusters\n"
     ]
    },
    {
     "name": "stderr",
     "output_type": "stream",
     "text": [
      "INFO:sensai.clustering.base.clustering:Processed 40% of clusters\n"
     ]
    },
    {
     "name": "stderr",
     "output_type": "stream",
     "text": [
      "INFO:sensai.clustering.base.clustering:Processed 45% of clusters\n"
     ]
    },
    {
     "name": "stderr",
     "output_type": "stream",
     "text": [
      "INFO:sensai.clustering.base.clustering:Processed 50% of clusters\n"
     ]
    },
    {
     "name": "stderr",
     "output_type": "stream",
     "text": [
      "INFO:sensai.clustering.base.clustering:Processed 55% of clusters\n"
     ]
    },
    {
     "name": "stderr",
     "output_type": "stream",
     "text": [
      "INFO:sensai.clustering.base.clustering:Processed 60% of clusters\n"
     ]
    },
    {
     "name": "stderr",
     "output_type": "stream",
     "text": [
      "INFO:sensai.clustering.base.clustering:Processed 65% of clusters\n"
     ]
    },
    {
     "name": "stderr",
     "output_type": "stream",
     "text": [
      "INFO:sensai.clustering.base.clustering:Processed 70% of clusters\n"
     ]
    },
    {
     "name": "stderr",
     "output_type": "stream",
     "text": [
      "INFO:sensai.clustering.base.clustering:Processed 75% of clusters\n"
     ]
    },
    {
     "name": "stderr",
     "output_type": "stream",
     "text": [
      "INFO:sensai.clustering.base.clustering:Processed 80% of clusters\n"
     ]
    },
    {
     "name": "stderr",
     "output_type": "stream",
     "text": [
      "INFO:sensai.clustering.base.clustering:Processed 85% of clusters\n"
     ]
    },
    {
     "name": "stderr",
     "output_type": "stream",
     "text": [
      "INFO:sensai.clustering.base.clustering:Processed 90% of clusters\n"
     ]
    },
    {
     "name": "stderr",
     "output_type": "stream",
     "text": [
      "INFO:sensai.clustering.base.clustering:Processed 95% of clusters\n"
     ]
    },
    {
     "name": "stderr",
     "output_type": "stream",
     "text": [
      "INFO:sensai.util.tracking:Finished execution of toGeoDF in 11.32s\n"
     ]
    },
    {
     "data": {
      "text/html": [
       "<div>\n",
       "<style scoped>\n",
       "    .dataframe tbody tr th:only-of-type {\n",
       "        vertical-align: middle;\n",
       "    }\n",
       "\n",
       "    .dataframe tbody tr th {\n",
       "        vertical-align: top;\n",
       "    }\n",
       "\n",
       "    .dataframe thead th {\n",
       "        text-align: right;\n",
       "    }\n",
       "</style>\n",
       "<table border=\"1\" class=\"dataframe\">\n",
       "  <thead>\n",
       "    <tr style=\"text-align: right;\">\n",
       "      <th></th>\n",
       "      <th>geometry</th>\n",
       "    </tr>\n",
       "    <tr>\n",
       "      <th>identifier</th>\n",
       "      <th></th>\n",
       "    </tr>\n",
       "  </thead>\n",
       "  <tbody>\n",
       "    <tr>\n",
       "      <th>0</th>\n",
       "      <td>MULTIPOINT (4376405.982 1183903.847, 4376421.3...</td>\n",
       "    </tr>\n",
       "    <tr>\n",
       "      <th>1</th>\n",
       "      <td>MULTIPOINT (4376700.416 1195503.201, 4376709.4...</td>\n",
       "    </tr>\n",
       "    <tr>\n",
       "      <th>2</th>\n",
       "      <td>MULTIPOINT (4377538.080 1198386.015, 4377561.8...</td>\n",
       "    </tr>\n",
       "    <tr>\n",
       "      <th>3</th>\n",
       "      <td>MULTIPOINT (4377825.214 1205091.938, 4377840.9...</td>\n",
       "    </tr>\n",
       "    <tr>\n",
       "      <th>4</th>\n",
       "      <td>MULTIPOINT (4378139.532 1186424.797, 4378165.9...</td>\n",
       "    </tr>\n",
       "  </tbody>\n",
       "</table>\n",
       "</div>"
      ],
      "text/plain": [
       "                                                     geometry\n",
       "identifier                                                   \n",
       "0           MULTIPOINT (4376405.982 1183903.847, 4376421.3...\n",
       "1           MULTIPOINT (4376700.416 1195503.201, 4376709.4...\n",
       "2           MULTIPOINT (4377538.080 1198386.015, 4377561.8...\n",
       "3           MULTIPOINT (4377825.214 1205091.938, 4377840.9...\n",
       "4           MULTIPOINT (4378139.532 1186424.797, 4378165.9..."
      ]
     },
     "execution_count": 14,
     "metadata": {},
     "output_type": "execute_result"
    }
   ],
   "source": [
    "dbscanGeoDF = dbscan.toGeoDF() # here again a condition for filtering clusters can be passed\n",
    "clusterGeoDF = sampleCluster.toGeoDF()\n",
    "treeGeoDF = sampleTree.toGeoDF()\n",
    "dbscanGeoDF.head()"
   ]
  },
  {
   "cell_type": "code",
   "execution_count": 15,
   "metadata": {},
   "outputs": [
    {
     "name": "stderr",
     "output_type": "stream",
     "text": [
      "INFO:sensai.clustering.coordinate_clustering:Saving instance of Cluster as shapefile to /home/runner/work/sensAI/sensAI/temp/sampleCluster_0\n"
     ]
    }
   ],
   "source": [
    "dbscanSavedPath = os.path.join(c.temp, f\"{dbscan}_sample.pickle\")\n",
    "clusterSavedPath = os.path.join(c.temp, f\"sampleCluster_{sampleCluster.identifier}\")\n",
    "\n",
    "\n",
    "dbscan.save(dbscanSavedPath)\n",
    "sampleCluster.save(clusterSavedPath)"
   ]
  },
  {
   "cell_type": "code",
   "execution_count": 16,
   "metadata": {},
   "outputs": [
    {
     "name": "stderr",
     "output_type": "stream",
     "text": [
      "INFO:sensai.util.cache:Loading instance of <class 'sensai.clustering.coordinate_clustering.SKLearnCoordinateClustering'> from /home/runner/work/sensAI/sensAI/temp/SKLearnCoordinateClustering_sample.pickle\n"
     ]
    },
    {
     "name": "stderr",
     "output_type": "stream",
     "text": [
      "INFO:sensai.clustering.coordinate_clustering:Loading instance of Cluster from /home/runner/work/sensAI/sensAI/temp/sampleCluster_0\n"
     ]
    }
   ],
   "source": [
    "loadedDBSCAN = SKLearnCoordinateClustering.load(dbscanSavedPath)\n",
    "loadedCluster = SKLearnCoordinateClustering.Cluster.load(clusterSavedPath)"
   ]
  },
  {
   "cell_type": "code",
   "execution_count": 17,
   "metadata": {
    "pycharm": {
     "name": "#%%\n"
    }
   },
   "outputs": [
    {
     "name": "stdout",
     "output_type": "stream",
     "text": [
      "True\n",
      "True\n"
     ]
    }
   ],
   "source": [
    "# The loaded objects are equal to the ones we persisted\n",
    "\n",
    "print(loadedCluster.identifier == sampleCluster.identifier)\n",
    "print(np.array_equal(sampleCluster.datapoints, loadedDBSCAN.getCluster(0).datapoints))\n",
    "\n",
    "# Cleaning up\n",
    "import shutil\n",
    "\n",
    "shutil.rmtree(clusterSavedPath)\n",
    "os.remove(dbscanSavedPath)"
   ]
  }
 ],
 "metadata": {
  "kernelspec": {
   "display_name": "Python 3",
   "language": "python",
   "name": "python3"
  },
  "language_info": {
   "codemirror_mode": {
    "name": "ipython",
    "version": 3
   },
   "file_extension": ".py",
   "mimetype": "text/x-python",
   "name": "python",
   "nbconvert_exporter": "python",
   "pygments_lexer": "ipython3",
   "version": "3.8.2"
  }
 },
 "nbformat": 4,
 "nbformat_minor": 4
}
